{
 "cells": [
  {
   "cell_type": "markdown",
   "metadata": {},
   "source": [
    "# Kaggle's M5 forecasting Competition\n",
    "\n",
    "Author: `Armando Miguel Trejo Marrufo`"
   ]
  },
  {
   "cell_type": "code",
   "execution_count": 1,
   "metadata": {},
   "outputs": [
    {
     "name": "stderr",
     "output_type": "stream",
     "text": [
      "C:\\Users\\amtre\\Anaconda3\\lib\\site-packages\\statsmodels\\tools\\_testing.py:19: FutureWarning: pandas.util.testing is deprecated. Use the functions in the public API at pandas.testing instead.\n",
      "  import pandas.util.testing as tm\n"
     ]
    }
   ],
   "source": [
    "%matplotlib inline\n",
    "import pandas as pd\n",
    "import numpy as np \n",
    "import matplotlib.pyplot as plt \n",
    "import warnings\n",
    "import missingno as msno \n",
    "import seaborn as sns \n",
    "import plotly.graph_objects as go\n",
    "from sklearn.utils import shuffle\n",
    "from scipy.stats import yeojohnson, yeojohnson_normplot, probplot\n",
    "warnings.filterwarnings(\"ignore\")\n",
    "\n",
    "# Display all columns\n",
    "pd.set_option('display.max_columns', None)"
   ]
  },
  {
   "cell_type": "markdown",
   "metadata": {},
   "source": [
    "***Notes***\n",
    "\n",
    "1. ```dt_complementary``` merges the original calendar and price data to know the ```date``` when the ```product_id``` of the ```store_id``` was saled at. Additionaly to know if they were particular events like ```SNAP``` purchases or major events, check the documentation.\n",
    "\n",
    "2. ```dt_sales_s```. In case you don't have enough RAM take initial n rows of the original dataframe and shuffle the data, because it is ordered.\n",
    "\n",
    "3. ```dt_sales_melt```. Melt the dataframe so that each sale by product can be seen as row.\n",
    "\n",
    "4. ```dt_work```. Merges ```dt_sales_melt``` with ```dt_complementary``` to know for each day of sale the price and relevant events associated to that day."
   ]
  },
  {
   "cell_type": "code",
   "execution_count": 2,
   "metadata": {},
   "outputs": [],
   "source": [
    "# Load data\n",
    "files = ['data/calendar.csv', 'data/sales_train_validation.csv', 'data/sell_prices.csv']\n",
    "data = [pd.read_csv(f) for f in files]\n",
    "dt_calendar, dt_sales, dt_prices = data\n",
    "\n",
    "# Merge calendar and prices\n",
    "dt_prices = shuffle(dt_prices, n_samples = 2000000)\n",
    "dt_complementary = dt_prices.merge(dt_calendar, how='left', on='wm_yr_wk')\n",
    "\n",
    "# Shuffle data (it is originally ordered) and take n rows (if you don't have enough RAM)\n",
    "dt_sales = shuffle(dt_sales, n_samples = 3000)"
   ]
  },
  {
   "cell_type": "code",
   "execution_count": 3,
   "metadata": {},
   "outputs": [],
   "source": [
    "# Melt sales data\n",
    "indicators = [f'd_{i}' for i in range(1,1914)]\n",
    "\n",
    "dt_sales_melt = pd.melt(dt_sales, \n",
    "                        id_vars = ['id', 'item_id', 'dept_id', 'cat_id', 'store_id', 'state_id'],\n",
    "                        value_vars = indicators, \n",
    "                        var_name = 'day_key', \n",
    "                        value_name = 'sales_day')\n",
    "\n",
    "dt_sales_melt['day'] = dt_sales_melt['day_key'].apply(lambda x: x[2:]).astype(int)"
   ]
  },
  {
   "cell_type": "code",
   "execution_count": 4,
   "metadata": {},
   "outputs": [
    {
     "name": "stdout",
     "output_type": "stream",
     "text": [
      "(1309476, 20)\n"
     ]
    }
   ],
   "source": [
    "# Data to work with\n",
    "columns = ['store_id','item_id','sell_price','date','year','d','event_name_1','event_type_1','event_name_2','event_type_2','snap_CA','snap_TX','snap_WI']\n",
    "dt_work = dt_sales_melt.merge(dt_complementary[columns], how = 'inner', left_on=['item_id','store_id','day_key'], right_on=['item_id','store_id','d'])\n",
    "print(dt_work.shape)"
   ]
  },
  {
   "cell_type": "markdown",
   "metadata": {},
   "source": [
    "### 1. Data Imputation"
   ]
  },
  {
   "cell_type": "code",
   "execution_count": 7,
   "metadata": {},
   "outputs": [
    {
     "name": "stdout",
     "output_type": "stream",
     "text": [
      "The unique values for the column event_name_1 are: [nan 'SuperBowl' 'ValentinesDay' 'PresidentsDay' 'LentStart' 'LentWeek2'\n",
      " 'StPatricksDay' 'Purim End' 'OrthodoxEaster' 'Pesach End' 'Cinco De Mayo'\n",
      " \"Mother's day\" 'MemorialDay' 'NBAFinalsStart' 'NBAFinalsEnd'\n",
      " \"Father's day\" 'IndependenceDay' 'Ramadan starts' 'Eid al-Fitr'\n",
      " 'LaborDay' 'ColumbusDay' 'Halloween' 'EidAlAdha' 'VeteransDay'\n",
      " 'Thanksgiving' 'Christmas' 'Chanukah End' 'NewYear' 'OrthodoxChristmas'\n",
      " 'MartinLutherKingDay' 'Easter'] \n",
      "\n",
      "The unique values for the column event_type_1 are: [nan 'Sporting' 'Cultural' 'National' 'Religious'] \n",
      "\n",
      "The unique values for the column event_name_2 are: [nan 'Easter' 'Cinco De Mayo' 'OrthodoxEaster' \"Father's day\"] \n",
      "\n",
      "The unique values for the column event_type_2 are: [nan 'Cultural' 'Religious'] \n",
      "\n"
     ]
    }
   ],
   "source": [
    "# If there are null values, print the unique values of the column \n",
    "for k,v in dict(dt_work.isnull().sum()).items():\n",
    "    if v > 0:\n",
    "        print(f\"The unique values for the column {k} are:\", dt_work[k].unique(), \"\\n\")"
   ]
  },
  {
   "cell_type": "markdown",
   "metadata": {},
   "source": [
    "We notice that we got missing values for the events, and that this is due to the fact that in that particular day was not tagged as an special event day. Thus, we're simply considering this days as `Normal` and the event type associated with them as `Non-Special`."
   ]
  },
  {
   "cell_type": "code",
   "execution_count": 8,
   "metadata": {},
   "outputs": [],
   "source": [
    "dt_work['event_name_1'] = dt_work['event_name_1'].fillna('Normal')\n",
    "dt_work['event_name_2'] = dt_work['event_name_2'].fillna('Normal')\n",
    "dt_work['event_type_1'] = dt_work['event_type_1'].fillna('Non-Special')\n",
    "dt_work['event_type_2'] = dt_work['event_type_2'].fillna('Non-Special')"
   ]
  },
  {
   "cell_type": "markdown",
   "metadata": {},
   "source": [
    "### 2. Correlation "
   ]
  },
  {
   "cell_type": "code",
   "execution_count": 18,
   "metadata": {},
   "outputs": [
    {
     "name": "stdout",
     "output_type": "stream",
     "text": [
      "(498452, 20)\n"
     ]
    }
   ],
   "source": [
    "dt_work_CA = dt_work[dt_work.state_id=='CA']\n",
    "print(dt_work_CA.shape)"
   ]
  },
  {
   "cell_type": "code",
   "execution_count": 20,
   "metadata": {},
   "outputs": [
    {
     "data": {
      "text/html": [
       "<style  type=\"text/css\" >\n",
       "    #T_491ddcb8_7ad4_11ea_9690_28c63f79ae90 th {\n",
       "          font-size: 7pt;\n",
       "    }    #T_491ddcb8_7ad4_11ea_9690_28c63f79ae90 td {\n",
       "          padding: 0em 0em;\n",
       "    }    #T_491ddcb8_7ad4_11ea_9690_28c63f79ae90 th:hover {\n",
       "          font-size: 12pt;\n",
       "    }    #T_491ddcb8_7ad4_11ea_9690_28c63f79ae90 tr:hover td:hover {\n",
       "          max-width: 200px;\n",
       "          font-size: 12pt;\n",
       "    }    #T_491ddcb8_7ad4_11ea_9690_28c63f79ae90row0_col0 {\n",
       "            background-color:  #4479bb;\n",
       "            color:  #000000;\n",
       "            max-width:  80px;\n",
       "            font-size:  10pt;\n",
       "        }    #T_491ddcb8_7ad4_11ea_9690_28c63f79ae90row0_col1 {\n",
       "            background-color:  #de5b75;\n",
       "            color:  #000000;\n",
       "            max-width:  80px;\n",
       "            font-size:  10pt;\n",
       "        }    #T_491ddcb8_7ad4_11ea_9690_28c63f79ae90row0_col2 {\n",
       "            background-color:  #d73c5b;\n",
       "            color:  #f1f1f1;\n",
       "            max-width:  80px;\n",
       "            font-size:  10pt;\n",
       "        }    #T_491ddcb8_7ad4_11ea_9690_28c63f79ae90row0_col3 {\n",
       "            background-color:  #de5c76;\n",
       "            color:  #000000;\n",
       "            max-width:  80px;\n",
       "            font-size:  10pt;\n",
       "        }    #T_491ddcb8_7ad4_11ea_9690_28c63f79ae90row0_col4 {\n",
       "            background-color:  #e3748a;\n",
       "            color:  #000000;\n",
       "            max-width:  80px;\n",
       "            font-size:  10pt;\n",
       "        }    #T_491ddcb8_7ad4_11ea_9690_28c63f79ae90row0_col5 {\n",
       "            background-color:  #e27288;\n",
       "            color:  #000000;\n",
       "            max-width:  80px;\n",
       "            font-size:  10pt;\n",
       "        }    #T_491ddcb8_7ad4_11ea_9690_28c63f79ae90row0_col6 {\n",
       "            background-color:  #e27288;\n",
       "            color:  #000000;\n",
       "            max-width:  80px;\n",
       "            font-size:  10pt;\n",
       "        }    #T_491ddcb8_7ad4_11ea_9690_28c63f79ae90row1_col0 {\n",
       "            background-color:  #d73c5b;\n",
       "            color:  #f1f1f1;\n",
       "            max-width:  80px;\n",
       "            font-size:  10pt;\n",
       "        }    #T_491ddcb8_7ad4_11ea_9690_28c63f79ae90row1_col1 {\n",
       "            background-color:  #4479bb;\n",
       "            color:  #000000;\n",
       "            max-width:  80px;\n",
       "            font-size:  10pt;\n",
       "        }    #T_491ddcb8_7ad4_11ea_9690_28c63f79ae90row1_col2 {\n",
       "            background-color:  #dd5a74;\n",
       "            color:  #000000;\n",
       "            max-width:  80px;\n",
       "            font-size:  10pt;\n",
       "        }    #T_491ddcb8_7ad4_11ea_9690_28c63f79ae90row1_col3 {\n",
       "            background-color:  #497dbd;\n",
       "            color:  #000000;\n",
       "            max-width:  80px;\n",
       "            font-size:  10pt;\n",
       "        }    #T_491ddcb8_7ad4_11ea_9690_28c63f79ae90row1_col4 {\n",
       "            background-color:  #db4f6b;\n",
       "            color:  #000000;\n",
       "            max-width:  80px;\n",
       "            font-size:  10pt;\n",
       "        }    #T_491ddcb8_7ad4_11ea_9690_28c63f79ae90row1_col5 {\n",
       "            background-color:  #db4f6b;\n",
       "            color:  #000000;\n",
       "            max-width:  80px;\n",
       "            font-size:  10pt;\n",
       "        }    #T_491ddcb8_7ad4_11ea_9690_28c63f79ae90row1_col6 {\n",
       "            background-color:  #dc516d;\n",
       "            color:  #000000;\n",
       "            max-width:  80px;\n",
       "            font-size:  10pt;\n",
       "        }    #T_491ddcb8_7ad4_11ea_9690_28c63f79ae90row2_col0 {\n",
       "            background-color:  #d73c5b;\n",
       "            color:  #f1f1f1;\n",
       "            max-width:  80px;\n",
       "            font-size:  10pt;\n",
       "        }    #T_491ddcb8_7ad4_11ea_9690_28c63f79ae90row2_col1 {\n",
       "            background-color:  #e3788d;\n",
       "            color:  #000000;\n",
       "            max-width:  80px;\n",
       "            font-size:  10pt;\n",
       "        }    #T_491ddcb8_7ad4_11ea_9690_28c63f79ae90row2_col2 {\n",
       "            background-color:  #4479bb;\n",
       "            color:  #000000;\n",
       "            max-width:  80px;\n",
       "            font-size:  10pt;\n",
       "        }    #T_491ddcb8_7ad4_11ea_9690_28c63f79ae90row2_col3 {\n",
       "            background-color:  #e3768c;\n",
       "            color:  #000000;\n",
       "            max-width:  80px;\n",
       "            font-size:  10pt;\n",
       "        }    #T_491ddcb8_7ad4_11ea_9690_28c63f79ae90row2_col4 {\n",
       "            background-color:  #e26f86;\n",
       "            color:  #000000;\n",
       "            max-width:  80px;\n",
       "            font-size:  10pt;\n",
       "        }    #T_491ddcb8_7ad4_11ea_9690_28c63f79ae90row2_col5 {\n",
       "            background-color:  #e26f86;\n",
       "            color:  #000000;\n",
       "            max-width:  80px;\n",
       "            font-size:  10pt;\n",
       "        }    #T_491ddcb8_7ad4_11ea_9690_28c63f79ae90row2_col6 {\n",
       "            background-color:  #e26f86;\n",
       "            color:  #000000;\n",
       "            max-width:  80px;\n",
       "            font-size:  10pt;\n",
       "        }    #T_491ddcb8_7ad4_11ea_9690_28c63f79ae90row3_col0 {\n",
       "            background-color:  #d73c5b;\n",
       "            color:  #f1f1f1;\n",
       "            max-width:  80px;\n",
       "            font-size:  10pt;\n",
       "        }    #T_491ddcb8_7ad4_11ea_9690_28c63f79ae90row3_col1 {\n",
       "            background-color:  #497dbd;\n",
       "            color:  #000000;\n",
       "            max-width:  80px;\n",
       "            font-size:  10pt;\n",
       "        }    #T_491ddcb8_7ad4_11ea_9690_28c63f79ae90row3_col2 {\n",
       "            background-color:  #dd5872;\n",
       "            color:  #000000;\n",
       "            max-width:  80px;\n",
       "            font-size:  10pt;\n",
       "        }    #T_491ddcb8_7ad4_11ea_9690_28c63f79ae90row3_col3 {\n",
       "            background-color:  #4479bb;\n",
       "            color:  #000000;\n",
       "            max-width:  80px;\n",
       "            font-size:  10pt;\n",
       "        }    #T_491ddcb8_7ad4_11ea_9690_28c63f79ae90row3_col4 {\n",
       "            background-color:  #dc546f;\n",
       "            color:  #000000;\n",
       "            max-width:  80px;\n",
       "            font-size:  10pt;\n",
       "        }    #T_491ddcb8_7ad4_11ea_9690_28c63f79ae90row3_col5 {\n",
       "            background-color:  #dc526e;\n",
       "            color:  #000000;\n",
       "            max-width:  80px;\n",
       "            font-size:  10pt;\n",
       "        }    #T_491ddcb8_7ad4_11ea_9690_28c63f79ae90row3_col6 {\n",
       "            background-color:  #dc546f;\n",
       "            color:  #000000;\n",
       "            max-width:  80px;\n",
       "            font-size:  10pt;\n",
       "        }    #T_491ddcb8_7ad4_11ea_9690_28c63f79ae90row4_col0 {\n",
       "            background-color:  #d8415f;\n",
       "            color:  #f1f1f1;\n",
       "            max-width:  80px;\n",
       "            font-size:  10pt;\n",
       "        }    #T_491ddcb8_7ad4_11ea_9690_28c63f79ae90row4_col1 {\n",
       "            background-color:  #d73c5b;\n",
       "            color:  #f1f1f1;\n",
       "            max-width:  80px;\n",
       "            font-size:  10pt;\n",
       "        }    #T_491ddcb8_7ad4_11ea_9690_28c63f79ae90row4_col2 {\n",
       "            background-color:  #d73c5b;\n",
       "            color:  #f1f1f1;\n",
       "            max-width:  80px;\n",
       "            font-size:  10pt;\n",
       "        }    #T_491ddcb8_7ad4_11ea_9690_28c63f79ae90row4_col3 {\n",
       "            background-color:  #d8405e;\n",
       "            color:  #f1f1f1;\n",
       "            max-width:  80px;\n",
       "            font-size:  10pt;\n",
       "        }    #T_491ddcb8_7ad4_11ea_9690_28c63f79ae90row4_col4 {\n",
       "            background-color:  #4479bb;\n",
       "            color:  #000000;\n",
       "            max-width:  80px;\n",
       "            font-size:  10pt;\n",
       "        }    #T_491ddcb8_7ad4_11ea_9690_28c63f79ae90row4_col5 {\n",
       "            background-color:  #f5cfd7;\n",
       "            color:  #000000;\n",
       "            max-width:  80px;\n",
       "            font-size:  10pt;\n",
       "        }    #T_491ddcb8_7ad4_11ea_9690_28c63f79ae90row4_col6 {\n",
       "            background-color:  #f5cfd7;\n",
       "            color:  #000000;\n",
       "            max-width:  80px;\n",
       "            font-size:  10pt;\n",
       "        }    #T_491ddcb8_7ad4_11ea_9690_28c63f79ae90row5_col0 {\n",
       "            background-color:  #d83e5d;\n",
       "            color:  #f1f1f1;\n",
       "            max-width:  80px;\n",
       "            font-size:  10pt;\n",
       "        }    #T_491ddcb8_7ad4_11ea_9690_28c63f79ae90row5_col1 {\n",
       "            background-color:  #d73c5b;\n",
       "            color:  #f1f1f1;\n",
       "            max-width:  80px;\n",
       "            font-size:  10pt;\n",
       "        }    #T_491ddcb8_7ad4_11ea_9690_28c63f79ae90row5_col2 {\n",
       "            background-color:  #d73c5b;\n",
       "            color:  #f1f1f1;\n",
       "            max-width:  80px;\n",
       "            font-size:  10pt;\n",
       "        }    #T_491ddcb8_7ad4_11ea_9690_28c63f79ae90row5_col3 {\n",
       "            background-color:  #d83e5d;\n",
       "            color:  #f1f1f1;\n",
       "            max-width:  80px;\n",
       "            font-size:  10pt;\n",
       "        }    #T_491ddcb8_7ad4_11ea_9690_28c63f79ae90row5_col4 {\n",
       "            background-color:  #f5cfd7;\n",
       "            color:  #000000;\n",
       "            max-width:  80px;\n",
       "            font-size:  10pt;\n",
       "        }    #T_491ddcb8_7ad4_11ea_9690_28c63f79ae90row5_col5 {\n",
       "            background-color:  #4479bb;\n",
       "            color:  #000000;\n",
       "            max-width:  80px;\n",
       "            font-size:  10pt;\n",
       "        }    #T_491ddcb8_7ad4_11ea_9690_28c63f79ae90row5_col6 {\n",
       "            background-color:  #e2eaf4;\n",
       "            color:  #000000;\n",
       "            max-width:  80px;\n",
       "            font-size:  10pt;\n",
       "        }    #T_491ddcb8_7ad4_11ea_9690_28c63f79ae90row6_col0 {\n",
       "            background-color:  #d83e5d;\n",
       "            color:  #f1f1f1;\n",
       "            max-width:  80px;\n",
       "            font-size:  10pt;\n",
       "        }    #T_491ddcb8_7ad4_11ea_9690_28c63f79ae90row6_col1 {\n",
       "            background-color:  #d73c5b;\n",
       "            color:  #f1f1f1;\n",
       "            max-width:  80px;\n",
       "            font-size:  10pt;\n",
       "        }    #T_491ddcb8_7ad4_11ea_9690_28c63f79ae90row6_col2 {\n",
       "            background-color:  #d73c5b;\n",
       "            color:  #f1f1f1;\n",
       "            max-width:  80px;\n",
       "            font-size:  10pt;\n",
       "        }    #T_491ddcb8_7ad4_11ea_9690_28c63f79ae90row6_col3 {\n",
       "            background-color:  #d83e5d;\n",
       "            color:  #f1f1f1;\n",
       "            max-width:  80px;\n",
       "            font-size:  10pt;\n",
       "        }    #T_491ddcb8_7ad4_11ea_9690_28c63f79ae90row6_col4 {\n",
       "            background-color:  #f5cfd7;\n",
       "            color:  #000000;\n",
       "            max-width:  80px;\n",
       "            font-size:  10pt;\n",
       "        }    #T_491ddcb8_7ad4_11ea_9690_28c63f79ae90row6_col5 {\n",
       "            background-color:  #e2eaf4;\n",
       "            color:  #000000;\n",
       "            max-width:  80px;\n",
       "            font-size:  10pt;\n",
       "        }    #T_491ddcb8_7ad4_11ea_9690_28c63f79ae90row6_col6 {\n",
       "            background-color:  #4479bb;\n",
       "            color:  #000000;\n",
       "            max-width:  80px;\n",
       "            font-size:  10pt;\n",
       "        }</style><table id=\"T_491ddcb8_7ad4_11ea_9690_28c63f79ae90\" ><caption>Correlation between variables</caption><thead>    <tr>        <th class=\"blank level0\" ></th>        <th class=\"col_heading level0 col0\" >sales_day</th>        <th class=\"col_heading level0 col1\" >day</th>        <th class=\"col_heading level0 col2\" >sell_price</th>        <th class=\"col_heading level0 col3\" >year</th>        <th class=\"col_heading level0 col4\" >snap_CA</th>        <th class=\"col_heading level0 col5\" >snap_TX</th>        <th class=\"col_heading level0 col6\" >snap_WI</th>    </tr></thead><tbody>\n",
       "                <tr>\n",
       "                        <th id=\"T_491ddcb8_7ad4_11ea_9690_28c63f79ae90level0_row0\" class=\"row_heading level0 row0\" >sales_day</th>\n",
       "                        <td id=\"T_491ddcb8_7ad4_11ea_9690_28c63f79ae90row0_col0\" class=\"data row0 col0\" >1.00</td>\n",
       "                        <td id=\"T_491ddcb8_7ad4_11ea_9690_28c63f79ae90row0_col1\" class=\"data row0 col1\" >-0.06</td>\n",
       "                        <td id=\"T_491ddcb8_7ad4_11ea_9690_28c63f79ae90row0_col2\" class=\"data row0 col2\" >-0.17</td>\n",
       "                        <td id=\"T_491ddcb8_7ad4_11ea_9690_28c63f79ae90row0_col3\" class=\"data row0 col3\" >-0.06</td>\n",
       "                        <td id=\"T_491ddcb8_7ad4_11ea_9690_28c63f79ae90row0_col4\" class=\"data row0 col4\" >0.02</td>\n",
       "                        <td id=\"T_491ddcb8_7ad4_11ea_9690_28c63f79ae90row0_col5\" class=\"data row0 col5\" >0.01</td>\n",
       "                        <td id=\"T_491ddcb8_7ad4_11ea_9690_28c63f79ae90row0_col6\" class=\"data row0 col6\" >0.01</td>\n",
       "            </tr>\n",
       "            <tr>\n",
       "                        <th id=\"T_491ddcb8_7ad4_11ea_9690_28c63f79ae90level0_row1\" class=\"row_heading level0 row1\" >day</th>\n",
       "                        <td id=\"T_491ddcb8_7ad4_11ea_9690_28c63f79ae90row1_col0\" class=\"data row1 col0\" >-0.06</td>\n",
       "                        <td id=\"T_491ddcb8_7ad4_11ea_9690_28c63f79ae90row1_col1\" class=\"data row1 col1\" >1.00</td>\n",
       "                        <td id=\"T_491ddcb8_7ad4_11ea_9690_28c63f79ae90row1_col2\" class=\"data row1 col2\" >0.02</td>\n",
       "                        <td id=\"T_491ddcb8_7ad4_11ea_9690_28c63f79ae90row1_col3\" class=\"data row1 col3\" >0.98</td>\n",
       "                        <td id=\"T_491ddcb8_7ad4_11ea_9690_28c63f79ae90row1_col4\" class=\"data row1 col4\" >-0.00</td>\n",
       "                        <td id=\"T_491ddcb8_7ad4_11ea_9690_28c63f79ae90row1_col5\" class=\"data row1 col5\" >-0.00</td>\n",
       "                        <td id=\"T_491ddcb8_7ad4_11ea_9690_28c63f79ae90row1_col6\" class=\"data row1 col6\" >-0.00</td>\n",
       "            </tr>\n",
       "            <tr>\n",
       "                        <th id=\"T_491ddcb8_7ad4_11ea_9690_28c63f79ae90level0_row2\" class=\"row_heading level0 row2\" >sell_price</th>\n",
       "                        <td id=\"T_491ddcb8_7ad4_11ea_9690_28c63f79ae90row2_col0\" class=\"data row2 col0\" >-0.17</td>\n",
       "                        <td id=\"T_491ddcb8_7ad4_11ea_9690_28c63f79ae90row2_col1\" class=\"data row2 col1\" >0.02</td>\n",
       "                        <td id=\"T_491ddcb8_7ad4_11ea_9690_28c63f79ae90row2_col2\" class=\"data row2 col2\" >1.00</td>\n",
       "                        <td id=\"T_491ddcb8_7ad4_11ea_9690_28c63f79ae90row2_col3\" class=\"data row2 col3\" >0.02</td>\n",
       "                        <td id=\"T_491ddcb8_7ad4_11ea_9690_28c63f79ae90row2_col4\" class=\"data row2 col4\" >-0.00</td>\n",
       "                        <td id=\"T_491ddcb8_7ad4_11ea_9690_28c63f79ae90row2_col5\" class=\"data row2 col5\" >-0.00</td>\n",
       "                        <td id=\"T_491ddcb8_7ad4_11ea_9690_28c63f79ae90row2_col6\" class=\"data row2 col6\" >-0.00</td>\n",
       "            </tr>\n",
       "            <tr>\n",
       "                        <th id=\"T_491ddcb8_7ad4_11ea_9690_28c63f79ae90level0_row3\" class=\"row_heading level0 row3\" >year</th>\n",
       "                        <td id=\"T_491ddcb8_7ad4_11ea_9690_28c63f79ae90row3_col0\" class=\"data row3 col0\" >-0.06</td>\n",
       "                        <td id=\"T_491ddcb8_7ad4_11ea_9690_28c63f79ae90row3_col1\" class=\"data row3 col1\" >0.98</td>\n",
       "                        <td id=\"T_491ddcb8_7ad4_11ea_9690_28c63f79ae90row3_col2\" class=\"data row3 col2\" >0.02</td>\n",
       "                        <td id=\"T_491ddcb8_7ad4_11ea_9690_28c63f79ae90row3_col3\" class=\"data row3 col3\" >1.00</td>\n",
       "                        <td id=\"T_491ddcb8_7ad4_11ea_9690_28c63f79ae90row3_col4\" class=\"data row3 col4\" >0.01</td>\n",
       "                        <td id=\"T_491ddcb8_7ad4_11ea_9690_28c63f79ae90row3_col5\" class=\"data row3 col5\" >0.01</td>\n",
       "                        <td id=\"T_491ddcb8_7ad4_11ea_9690_28c63f79ae90row3_col6\" class=\"data row3 col6\" >0.01</td>\n",
       "            </tr>\n",
       "            <tr>\n",
       "                        <th id=\"T_491ddcb8_7ad4_11ea_9690_28c63f79ae90level0_row4\" class=\"row_heading level0 row4\" >snap_CA</th>\n",
       "                        <td id=\"T_491ddcb8_7ad4_11ea_9690_28c63f79ae90row4_col0\" class=\"data row4 col0\" >0.02</td>\n",
       "                        <td id=\"T_491ddcb8_7ad4_11ea_9690_28c63f79ae90row4_col1\" class=\"data row4 col1\" >-0.00</td>\n",
       "                        <td id=\"T_491ddcb8_7ad4_11ea_9690_28c63f79ae90row4_col2\" class=\"data row4 col2\" >-0.00</td>\n",
       "                        <td id=\"T_491ddcb8_7ad4_11ea_9690_28c63f79ae90row4_col3\" class=\"data row4 col3\" >0.01</td>\n",
       "                        <td id=\"T_491ddcb8_7ad4_11ea_9690_28c63f79ae90row4_col4\" class=\"data row4 col4\" >1.00</td>\n",
       "                        <td id=\"T_491ddcb8_7ad4_11ea_9690_28c63f79ae90row4_col5\" class=\"data row4 col5\" >0.40</td>\n",
       "                        <td id=\"T_491ddcb8_7ad4_11ea_9690_28c63f79ae90row4_col6\" class=\"data row4 col6\" >0.40</td>\n",
       "            </tr>\n",
       "            <tr>\n",
       "                        <th id=\"T_491ddcb8_7ad4_11ea_9690_28c63f79ae90level0_row5\" class=\"row_heading level0 row5\" >snap_TX</th>\n",
       "                        <td id=\"T_491ddcb8_7ad4_11ea_9690_28c63f79ae90row5_col0\" class=\"data row5 col0\" >0.01</td>\n",
       "                        <td id=\"T_491ddcb8_7ad4_11ea_9690_28c63f79ae90row5_col1\" class=\"data row5 col1\" >-0.00</td>\n",
       "                        <td id=\"T_491ddcb8_7ad4_11ea_9690_28c63f79ae90row5_col2\" class=\"data row5 col2\" >-0.00</td>\n",
       "                        <td id=\"T_491ddcb8_7ad4_11ea_9690_28c63f79ae90row5_col3\" class=\"data row5 col3\" >0.01</td>\n",
       "                        <td id=\"T_491ddcb8_7ad4_11ea_9690_28c63f79ae90row5_col4\" class=\"data row5 col4\" >0.40</td>\n",
       "                        <td id=\"T_491ddcb8_7ad4_11ea_9690_28c63f79ae90row5_col5\" class=\"data row5 col5\" >1.00</td>\n",
       "                        <td id=\"T_491ddcb8_7ad4_11ea_9690_28c63f79ae90row5_col6\" class=\"data row5 col6\" >0.55</td>\n",
       "            </tr>\n",
       "            <tr>\n",
       "                        <th id=\"T_491ddcb8_7ad4_11ea_9690_28c63f79ae90level0_row6\" class=\"row_heading level0 row6\" >snap_WI</th>\n",
       "                        <td id=\"T_491ddcb8_7ad4_11ea_9690_28c63f79ae90row6_col0\" class=\"data row6 col0\" >0.01</td>\n",
       "                        <td id=\"T_491ddcb8_7ad4_11ea_9690_28c63f79ae90row6_col1\" class=\"data row6 col1\" >-0.00</td>\n",
       "                        <td id=\"T_491ddcb8_7ad4_11ea_9690_28c63f79ae90row6_col2\" class=\"data row6 col2\" >-0.00</td>\n",
       "                        <td id=\"T_491ddcb8_7ad4_11ea_9690_28c63f79ae90row6_col3\" class=\"data row6 col3\" >0.01</td>\n",
       "                        <td id=\"T_491ddcb8_7ad4_11ea_9690_28c63f79ae90row6_col4\" class=\"data row6 col4\" >0.40</td>\n",
       "                        <td id=\"T_491ddcb8_7ad4_11ea_9690_28c63f79ae90row6_col5\" class=\"data row6 col5\" >0.55</td>\n",
       "                        <td id=\"T_491ddcb8_7ad4_11ea_9690_28c63f79ae90row6_col6\" class=\"data row6 col6\" >1.00</td>\n",
       "            </tr>\n",
       "    </tbody></table>"
      ],
      "text/plain": [
       "<pandas.io.formats.style.Styler at 0x1d9a385c248>"
      ]
     },
     "execution_count": 20,
     "metadata": {},
     "output_type": "execute_result"
    }
   ],
   "source": [
    "# Taken from https://datascience.stackexchange.com/questions/10459/calculation-and-visualization-of-correlation-matrix-with-pandas\n",
    "corr = dt_work_CA.corr()\n",
    "\n",
    "cmap = cmap=sns.diverging_palette(5, 250, as_cmap=True)\n",
    "\n",
    "def magnify():\n",
    "    return [dict(selector=\"th\",\n",
    "                 props=[(\"font-size\", \"7pt\")]),\n",
    "            dict(selector=\"td\",\n",
    "                 props=[('padding', \"0em 0em\")]),\n",
    "            dict(selector=\"th:hover\",\n",
    "                 props=[(\"font-size\", \"12pt\")]),\n",
    "            dict(selector=\"tr:hover td:hover\",\n",
    "                 props=[('max-width', '200px'),\n",
    "                        ('font-size', '12pt')])\n",
    "]\n",
    "\n",
    "corr.style.background_gradient(cmap, axis=1)\\\n",
    "    .set_properties(**{'max-width': '80px', 'font-size': '10pt'})\\\n",
    "    .set_caption(\"Correlation between variables\")\\\n",
    "    .set_precision(2)\\\n",
    "    .set_table_styles(magnify())"
   ]
  },
  {
   "cell_type": "markdown",
   "metadata": {},
   "source": [
    "Assessing **Multicollinearity** is key, because knowing that one variable could be expressed as a linear combination of other(s), let us avoid the sensity of the coefficient of the model to this phenomenon. \n",
    "\n",
    "It is interesting to notice that there is nearly a perfect correlation between `day` and `year`. This is due to the fact that as year increases the day increases, for example, the first 365 observations of the day are for the first year, the next 365 for the second year and so."
   ]
  },
  {
   "cell_type": "markdown",
   "metadata": {},
   "source": [
    "### 3. `sales_day` distribution"
   ]
  },
  {
   "cell_type": "code",
   "execution_count": 29,
   "metadata": {},
   "outputs": [
    {
     "name": "stdout",
     "output_type": "stream",
     "text": [
      "count    498452.000000\n",
      "mean          1.625328\n",
      "std           4.283068\n",
      "min           0.000000\n",
      "25%           0.000000\n",
      "50%           0.000000\n",
      "75%           2.000000\n",
      "max         427.000000\n",
      "Name: sales_day, dtype: float64 The 1th percentile is 0.0 \n",
      " The 5th percentile is 0.0 \n",
      " The 90th percentile is 4.0 \n",
      " The 98th percentile is 13.0 \n",
      "\n"
     ]
    }
   ],
   "source": [
    "print(dt_work_CA.sales_day.describe(),\n",
    "      f\"The 1th percentile is {dt_work_CA.sales_day.quantile(.01)}\", \"\\n\",\n",
    "      f\"The 5th percentile is {dt_work_CA.sales_day.quantile(.05)}\", \"\\n\",\n",
    "      f\"The 90th percentile is {dt_work_CA.sales_day.quantile(.90)}\", \"\\n\",\n",
    "      f\"The 98th percentile is {dt_work_CA.sales_day.quantile(.98)}\", \"\\n\")"
   ]
  },
  {
   "cell_type": "code",
   "execution_count": 37,
   "metadata": {},
   "outputs": [
    {
     "data": {
      "image/png": "[encoded data removed]",
      "text/plain": [
       "<Figure size 576x432 with 1 Axes>"
      ]
     },
     "metadata": {
      "needs_background": "light"
     },
     "output_type": "display_data"
    }
   ],
   "source": [
    "fig = plt.figure(figsize=(8,6))\n",
    "ax = fig.add_subplot(111)\n",
    "\n",
    "# Yeo-Johson Normality Plot \n",
    "lmbd_yj = yeojohnson_normplot(dt_work_CA.sales_day, -10, 10, plot=ax)\n",
    "sales_transformed, maxlmbd = yeojohnson(dt_work_CA.sales_day)\n",
    "\n",
    "ax.axvline(maxlmbd, color='r')\n",
    "plt.show()"
   ]
  },
  {
   "cell_type": "code",
   "execution_count": 41,
   "metadata": {},
   "outputs": [
    {
     "data": {
      "image/png": "[encoded data removed]",
      "text/plain": [
       "<Figure size 576x432 with 1 Axes>"
      ]
     },
     "metadata": {
      "needs_background": "light"
     },
     "output_type": "display_data"
    }
   ],
   "source": [
    "# QQ-plot of sales transformation \n",
    "fig = plt.figure(figsize=(8,6))\n",
    "ax = fig.add_subplot(111)\n",
    "qq_plot = probplot(sales_transformed, dist=\"norm\", plot=ax)\n",
    "ax.set_title(\"QQ-plot for normal distribution\")\n",
    "plt.show()"
   ]
  },
  {
   "cell_type": "code",
   "execution_count": 25,
   "metadata": {
    "scrolled": true
   },
   "outputs": [
    {
     "data": {
      "text/plain": [
       "count    498452.000000\n",
       "mean          1.625328\n",
       "std           4.283068\n",
       "min           0.000000\n",
       "25%           0.000000\n",
       "50%           0.000000\n",
       "75%           2.000000\n",
       "max         427.000000\n",
       "Name: sales_day, dtype: float64"
      ]
     },
     "execution_count": 25,
     "metadata": {},
     "output_type": "execute_result"
    }
   ],
   "source": [
    "# Sort data by date\n",
    "#dt_work_CA = dt_work_CA.sort_values(by=['date'])\n",
    "\n",
    "# Filter by columns of interest\n",
    "#cols_to_drop = ['id', 'item_id', 'day_key', 'day', 'date', 'd']\n",
    "#dt_CA_reg = dt_work_CA.drop(columns=cols_to_drop)"
   ]
  }
 ],
 "metadata": {
  "kernelspec": {
   "display_name": "Python 3",
   "language": "python",
   "name": "python3"
  },
  "language_info": {
   "codemirror_mode": {
    "name": "ipython",
    "version": 3
   },
   "file_extension": ".py",
   "mimetype": "text/x-python",
   "name": "python",
   "nbconvert_exporter": "python",
   "pygments_lexer": "ipython3",
   "version": "3.7.4"
  }
 },
 "nbformat": 4,
 "nbformat_minor": 2
}
